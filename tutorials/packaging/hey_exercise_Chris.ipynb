{
 "cells": [
  {
   "cell_type": "markdown",
   "id": "7c0d3f41-9ed3-4eb0-a59d-17bbb6de2b21",
   "metadata": {},
   "source": [
    "Hey everybody"
   ]
  },
  {
   "cell_type": "code",
   "execution_count": 3,
   "id": "3aa8fbbb-620a-40c3-aa4c-2a798a9b76d0",
   "metadata": {},
   "outputs": [
    {
     "name": "stdout",
     "output_type": "stream",
     "text": [
      "1\n"
     ]
    }
   ],
   "source": [
    "a=1\n",
    "print(a)"
   ]
  }
 ],
 "metadata": {
  "kernelspec": {
   "display_name": "Python 3 (ipykernel)",
   "language": "python",
   "name": "python3"
  },
  "language_info": {
   "codemirror_mode": {
    "name": "ipython",
    "version": 3
   },
   "file_extension": ".py",
   "mimetype": "text/x-python",
   "name": "python",
   "nbconvert_exporter": "python",
   "pygments_lexer": "ipython3",
   "version": "3.11.10"
  }
 },
 "nbformat": 4,
 "nbformat_minor": 5
}
